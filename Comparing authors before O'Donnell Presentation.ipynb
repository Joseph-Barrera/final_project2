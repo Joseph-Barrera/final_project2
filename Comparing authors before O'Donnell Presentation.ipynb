{
 "cells": [
  {
   "cell_type": "markdown",
   "id": "cc79e45d-8b2e-4b17-b8ae-370987169634",
   "metadata": {
    "editable": true,
    "slideshow": {
     "slide_type": ""
    },
    "tags": []
   },
   "source": [
    "# Comparing authors before Elliott O'Donnell"
   ]
  },
  {
   "cell_type": "markdown",
   "id": "ef1a09ac-b9d4-4335-bbb0-cf7c8c900114",
   "metadata": {
    "editable": true,
    "slideshow": {
     "slide_type": ""
    },
    "tags": []
   },
   "source": [
    "#### Group Members: Joseph, Daniel, Hanson, Josh"
   ]
  },
  {
   "cell_type": "code",
   "execution_count": 8,
   "id": "5f961267-abc9-44b2-bced-ab3a012ed9f7",
   "metadata": {},
   "outputs": [],
   "source": [
    "import pandas as pd"
   ]
  },
  {
   "cell_type": "markdown",
   "id": "301b435e-292d-4f28-b75f-5ca8bb05cb11",
   "metadata": {
    "editable": true,
    "slideshow": {
     "slide_type": ""
    },
    "tags": []
   },
   "source": [
    "### 1. Introduction"
   ]
  },
  {
   "cell_type": "markdown",
   "id": "ce5184c7-709d-4fe1-9521-a5d9f1718d62",
   "metadata": {
    "editable": true,
    "slideshow": {
     "slide_type": ""
    },
    "tags": []
   },
   "source": [
    "Provide a brief overview of your project here (1 paragraph)"
   ]
  },
  {
   "cell_type": "code",
   "execution_count": 11,
   "id": "665d7d45-ffd4-42d3-9cef-274101cbfa1e",
   "metadata": {},
   "outputs": [
    {
     "ename": "SyntaxError",
     "evalue": "invalid character '’' (U+2019) (3147344672.py, line 1)",
     "output_type": "error",
     "traceback": [
      "\u001b[1;36m  Cell \u001b[1;32mIn[11], line 1\u001b[1;36m\u001b[0m\n\u001b[1;33m    We love horror, so we decided to explore Elliott O’Donnell’s books. We know a little bit more about him because\u001b[0m\n\u001b[1;37m                                                      ^\u001b[0m\n\u001b[1;31mSyntaxError\u001b[0m\u001b[1;31m:\u001b[0m invalid character '’' (U+2019)\n"
     ]
    }
   ],
   "source": [
    "We love horror, so we decided to explore Elliott O’Donnell’s books. We know a little bit more about him because \n",
    "of project one, but we want to learn more about his legacy. We think his writing may have more negative connotations \n",
    "compared to other horror novels before his time. He often uses his personal ghost-hunting experiences, which might make \n",
    "his stories feel less active by inciting the use of negative and possibly aggressive tones."
   ]
  },
  {
   "cell_type": "markdown",
   "id": "9bf81a4e-0a9d-45bf-af08-c08a873275dc",
   "metadata": {
    "editable": true,
    "slideshow": {
     "slide_type": ""
    },
    "tags": []
   },
   "source": [
    "### 2. Hypothesis"
   ]
  },
  {
   "cell_type": "markdown",
   "id": "10fd47a5-bc03-40ec-a245-403c6a270d6b",
   "metadata": {
    "editable": true,
    "slideshow": {
     "slide_type": ""
    },
    "tags": []
   },
   "source": [
    "Explain your expected findings. What do you think the map of your data will look like and why? (2-3 sentences)"
   ]
  },
  {
   "cell_type": "code",
   "execution_count": null,
   "id": "9173d1a6-2e10-46e9-a000-78692edb7a98",
   "metadata": {},
   "outputs": [],
   "source": [
    "We wonder if he was as influential to modern horror as other authors from his era. O’Donnell might not be as famous \n",
    "today, but his works were popular back then and could have influenced many writers. We also believe that O’Donnell’s \n",
    "writings might be scarier and have more negative emotions and connotations than other popular horror writers before him \n",
    "due to the idea that he may have had inspiration from those authors."
   ]
  },
  {
   "cell_type": "markdown",
   "id": "2bb52ad2-ba39-4cab-943f-9c3ea69afeae",
   "metadata": {
    "editable": true,
    "slideshow": {
     "slide_type": ""
    },
    "tags": []
   },
   "source": [
    "### 3. Corpus Description"
   ]
  },
  {
   "cell_type": "markdown",
   "id": "93477763-f8c3-4411-a37b-3e325577ee12",
   "metadata": {
    "editable": true,
    "slideshow": {
     "slide_type": ""
    },
    "tags": []
   },
   "source": [
    "Describe the body of texts you wanted to get and why. You should explain the total number of texts you ended up with and the various parameters you used to filter out data. Describe why you filtered out that particular data. (1 paragraph)"
   ]
  },
  {
   "cell_type": "code",
   "execution_count": null,
   "id": "44569160-bca6-497b-84b4-df311a50cfc9",
   "metadata": {},
   "outputs": [],
   "source": [
    "We have two corpora. One containing the works of Elliot O'Donnell's 11 works. The other consists of Horror stories \n",
    "about, ghosts, spirits, or paranormal before Elliots O'Donnell's time dating as far back as 1812 with Charles Dickens, \n",
    "this corpus contained around 200 works. We limited the horror story data to those who covered similar subjects, to \n",
    "eliminate some independence, as well as limiting it to those who were born before him, leaving us with those who wrote \n",
    "about horror who are older than O’Donnell. Keeping these corpora separate allows us to visualize their sentiment data more easily. "
   ]
  },
  {
   "cell_type": "code",
   "execution_count": null,
   "id": "a8c10efe-9cb1-435f-a28c-889b0973b7bd",
   "metadata": {},
   "outputs": [],
   "source": [
    "pg_catalog_clean=pd.read_pickle('pg_catalog_clean.pickle')"
   ]
  },
  {
   "cell_type": "code",
   "execution_count": null,
   "id": "69ffb0d1-ddd8-4042-ac27-1c862f34d7ad",
   "metadata": {
    "editable": true,
    "slideshow": {
     "slide_type": ""
    },
    "tags": []
   },
   "outputs": [],
   "source": [
    "#This is for O'Donnell\n",
    "df_odonnell= pg_catalog_clean[\n",
    "    (pg_catalog_clean.last_name == 'O\\'Donnell') &\n",
    "    (pg_catalog_clean.first_name == 'Elliott')].copy()"
   ]
  },
  {
   "cell_type": "code",
   "execution_count": null,
   "id": "b0d9803d-0848-4a76-ba25-6cbe35e13908",
   "metadata": {},
   "outputs": [],
   "source": [
    "#This is for Corpus 2\n",
    "df_bfe_odonnell = pg_catalog_clean[\n",
    "  ((pg_catalog_clean.subjects.str.contains('Paranormal fiction')) |\n",
    "  (pg_catalog_clean.subjects.str.contains('Ghost stories'))|\n",
    "  (pg_catalog_clean.subjects.str.contains('Spirits' ))) &\n",
    "  (pg_catalog_clean.birth < 1871) \n",
    "].copy()"
   ]
  },
  {
   "cell_type": "code",
   "execution_count": null,
   "id": "b47da515-aedb-47fb-a03e-8f64967fb7e4",
   "metadata": {
    "editable": true,
    "slideshow": {
     "slide_type": ""
    },
    "tags": []
   },
   "outputs": [],
   "source": [
    "#Import the results and show a sample\n",
    "odonnell = pd.read_pickle('df_odonnell_TEXTS.pickle')\n",
    "odonnell.sample(9)"
   ]
  },
  {
   "cell_type": "code",
   "execution_count": null,
   "id": "860013a7-e238-4e80-b780-13f233876bc6",
   "metadata": {},
   "outputs": [],
   "source": [
    "bfe_odonnell = pd.read_pickle('df_bfe_odonnell_TEXTS.pickle')\n",
    "bfe_odonnell.sample(9)"
   ]
  },
  {
   "cell_type": "markdown",
   "id": "46d94131-74ab-4513-8fb7-d4513c2cea53",
   "metadata": {
    "editable": true,
    "slideshow": {
     "slide_type": ""
    },
    "tags": []
   },
   "source": [
    "### 4. Geoparsing Results"
   ]
  },
  {
   "cell_type": "markdown",
   "id": "01502f0c-da94-4f1d-8b05-c5debac06bbd",
   "metadata": {
    "editable": true,
    "slideshow": {
     "slide_type": ""
    },
    "tags": []
   },
   "source": [
    "Describe how the geoparsing process went. Look through the data and see if there are false positives that remain. Explain how you would remove them in the future. (1-2 paragraphs)"
   ]
  },
  {
   "cell_type": "code",
   "execution_count": null,
   "id": "660220f8-f148-448c-b765-99eeb15b1433",
   "metadata": {},
   "outputs": [],
   "source": [
    "The geosparsing process was difficult considering that the code did not want to work and it would take a very long time to \n",
    "load. A way that we removed false positives was by limiting the emotion value. We did this by making every result be greater\n",
    "than 3. This would leave only strong emotions on the map. Any false positives would have been removed. Another way to filter\n",
    "out false positives is by manually checking the sentences.\n",
    "We can do this by looking at the places in the stories and reading small samples. Reading over the results, it seemed that  \n",
    "there was not a lot of false positives. It would confuse some places such as, a cottage, The Kingsway, Hall, Personage, etc.\n",
    "While these are places, you cannot exactly pinpoint where these locations are which leads to false positives. "
   ]
  },
  {
   "cell_type": "code",
   "execution_count": null,
   "id": "43365bae-9cef-43a1-8789-7e547f04535d",
   "metadata": {},
   "outputs": [],
   "source": [
    "#Import the results and show a sample\n",
    "df_odonnell_PLACES = pd.read_pickle('df_odonnell_PLACES.pickle')"
   ]
  },
  {
   "cell_type": "code",
   "execution_count": null,
   "id": "2f9c87e9-534c-46f5-a71c-9d6bc5152965",
   "metadata": {},
   "outputs": [],
   "source": [
    "df_odonnell_PLACES[['cleaned_sentences','place']].sample(20, random_state = 4)"
   ]
  },
  {
   "cell_type": "code",
   "execution_count": null,
   "id": "944a927d-620a-4e76-bd82-3115223ff1d1",
   "metadata": {},
   "outputs": [],
   "source": [
    "pd.set_option('display.max_colwidth', None)"
   ]
  },
  {
   "cell_type": "markdown",
   "id": "29cfeb55-8b38-49a5-8a08-bd6f10bd0a87",
   "metadata": {
    "editable": true,
    "slideshow": {
     "slide_type": ""
    },
    "tags": []
   },
   "source": [
    "### 5. Sentiment Analysis Results\n"
   ]
  },
  {
   "cell_type": "markdown",
   "id": "ebdcf7ec-8ca7-41b2-a75f-8be85318f3c3",
   "metadata": {
    "editable": true,
    "slideshow": {
     "slide_type": ""
    },
    "tags": []
   },
   "source": [
    "Describe the sentiment analysis process. Look at the data and see if there are particular sentiment scores that stand out, either high scores or low scores. (1 paragraph)"
   ]
  },
  {
   "cell_type": "code",
   "execution_count": null,
   "id": "af6cd95c-c2ab-46e0-8b43-35058117bf16",
   "metadata": {},
   "outputs": [],
   "source": [
    "Data was collected from various works by other horror authors before Elliott O’Donnell. This raw \n",
    "data was cleaned and normalized to eliminate noise and irrelevant information. Using natural language \n",
    "processing techniques, each text was assigned a sentiment score on a scale from negative to positive. \n",
    "After scoring, the results were aggregated to identify trends, highlighting particularly high or low \n",
    "sentiment scores. For example, a high score indicates strong positive feelings, while a low score reflects \n",
    "strong negative feelings, helping readers grasp the intended emotions behind the text. In comparing sentiment \n",
    "scores, O'Donnell has a moderate sentiment profile, neither overwhelmingly positive nor negative. This contrasts \n",
    "with the high praise and divisive reactions often associated with earlier horror authors. This suggests that \n",
    "while O'Donnell is appreciated for his contributions to the genre, some criticism points to his writing as \n",
    "formulaic or lacking the psychological depth found in his predecessors, placing him in \n",
    "a more neutral sentiment than the more charged emotions often tied to other horror writers.\n"
   ]
  },
  {
   "cell_type": "code",
   "execution_count": null,
   "id": "6a8c78ee-36fb-4532-8e2f-6dd1e2e54a4c",
   "metadata": {
    "editable": true,
    "slideshow": {
     "slide_type": ""
    },
    "tags": []
   },
   "outputs": [],
   "source": [
    "#Import the results and show a sample\n",
    "df_odonnell_SENTIMENTS = pd.read_pickle('df_odonnell_TEXTS.pickle')\n",
    "df_odonnell_SENTIMENTS.sample(9)"
   ]
  },
  {
   "cell_type": "markdown",
   "id": "812a72fe-74a5-4586-a4f5-bb663a3b4e64",
   "metadata": {
    "editable": true,
    "slideshow": {
     "slide_type": ""
    },
    "tags": []
   },
   "source": [
    "### 6. Mapping"
   ]
  },
  {
   "cell_type": "markdown",
   "id": "1f0265dd-16c9-4511-b4c2-3a6b5175ef48",
   "metadata": {
    "editable": true,
    "slideshow": {
     "slide_type": ""
    },
    "tags": []
   },
   "source": [
    "Describe how you \"cleaned up\" the map and why. For example, you can explain:\n",
    "- If you decided to remove any results based on count\n",
    "- Filtered out particular types of locations\n",
    "- Modified the map colors\n",
    "- Modified the map zoom and center\n",
    "Does your map try to tell a particular story? If so, what is that story?\n",
    "\n",
    "(1-2 paragraphs)"
   ]
  },
  {
   "cell_type": "code",
   "execution_count": null,
   "id": "f50e1cf1-76db-4cdb-85fc-9b421bda3657",
   "metadata": {},
   "outputs": [],
   "source": [
    "We focused on making the map more informative and visually appealing. We filtered the \n",
    "location count to greater than 3 to ensure more specific and relevant results.  This helped \n",
    "eliminate outliers and provide a clearer view of significant data points. We also changed \n",
    "the map colors to an \"ice and fire\" theme, which enhanced readability by using contrasting \n",
    "colors to differentiate between various data points.\n",
    "    \n",
    "Additionally, we adjusted the map zoom and centered it to highlight areas of interest effectively. \n",
    "The story the map tells is one of diversity in writing styles. Odonnell stands out with a less \n",
    "neutral score compared to other artists, showcasing higher highs and lower lows. This suggests that \n",
    "Odonnell's writing is more emotionally intense and varied. Moreover, the scattered nature of Odonnell's \n",
    "data points implies a broader range of topics and themes explored in his work, setting him apart from his peers.\n"
   ]
  },
  {
   "cell_type": "code",
   "execution_count": null,
   "id": "58fff433-6f76-45eb-b9c4-9e8dce7b5b70",
   "metadata": {},
   "outputs": [],
   "source": []
  },
  {
   "cell_type": "code",
   "execution_count": 92,
   "id": "4f557135-96ed-4f9c-9ec9-42108f8c63eb",
   "metadata": {
    "editable": true,
    "slideshow": {
     "slide_type": ""
    },
    "tags": []
   },
   "outputs": [
    {
     "ename": "ValueError",
     "evalue": "Value of 'size' is not the name of a column in 'data_frame'. Expected one of ['text_id', 'title', 'subjects', 'last_name', 'first_name', 'birth', 'death'] but received: location_count_bucket",
     "output_type": "error",
     "traceback": [
      "\u001b[1;31m---------------------------------------------------------------------------\u001b[0m",
      "\u001b[1;31mValueError\u001b[0m                                Traceback (most recent call last)",
      "Cell \u001b[1;32mIn[92], line 6\u001b[0m\n\u001b[0;32m      2\u001b[0m \u001b[38;5;28;01mimport\u001b[39;00m \u001b[38;5;21;01mplotly\u001b[39;00m\u001b[38;5;21;01m.\u001b[39;00m\u001b[38;5;21;01mexpress\u001b[39;00m \u001b[38;5;28;01mas\u001b[39;00m \u001b[38;5;21;01mpx\u001b[39;00m\n\u001b[0;32m      4\u001b[0m df_odonnell \u001b[38;5;241m=\u001b[39m df_odonnell\u001b[38;5;241m.\u001b[39mdrop(columns\u001b[38;5;241m=\u001b[39m[\u001b[38;5;124m'\u001b[39m\u001b[38;5;124mlanguage\u001b[39m\u001b[38;5;124m'\u001b[39m, \u001b[38;5;124m'\u001b[39m\u001b[38;5;124missued\u001b[39m\u001b[38;5;124m'\u001b[39m, \u001b[38;5;124m'\u001b[39m\u001b[38;5;124mtype\u001b[39m\u001b[38;5;124m'\u001b[39m, \u001b[38;5;124m'\u001b[39m\u001b[38;5;124mlocc\u001b[39m\u001b[38;5;124m'\u001b[39m, \u001b[38;5;124m'\u001b[39m\u001b[38;5;124mbookshelves\u001b[39m\u001b[38;5;124m'\u001b[39m, \u001b[38;5;124m'\u001b[39m\u001b[38;5;124msecond_author\u001b[39m\u001b[38;5;124m'\u001b[39m])\u001b[38;5;241m.\u001b[39mcopy()\n\u001b[1;32m----> 6\u001b[0m fig \u001b[38;5;241m=\u001b[39m px\u001b[38;5;241m.\u001b[39mscatter_mapbox(\n\u001b[0;32m      7\u001b[0m     df_odonnell,  \u001b[38;5;66;03m#put your dataframe here\u001b[39;00m\n\u001b[0;32m      8\u001b[0m     lat\u001b[38;5;241m=\u001b[39m\u001b[38;5;124m\"\u001b[39m\u001b[38;5;124mlatitude\u001b[39m\u001b[38;5;124m\"\u001b[39m,               \u001b[38;5;66;03m# Latitude column\u001b[39;00m\n\u001b[0;32m      9\u001b[0m     lon\u001b[38;5;241m=\u001b[39m\u001b[38;5;124m\"\u001b[39m\u001b[38;5;124mlongitude\u001b[39m\u001b[38;5;124m\"\u001b[39m,              \u001b[38;5;66;03m# Longitude column\u001b[39;00m\n\u001b[0;32m     10\u001b[0m     size\u001b[38;5;241m=\u001b[39m\u001b[38;5;124m\"\u001b[39m\u001b[38;5;124mlocation_count_bucket\u001b[39m\u001b[38;5;124m\"\u001b[39m,        \u001b[38;5;66;03m# Bubble size based on location count\u001b[39;00m\n\u001b[0;32m     11\u001b[0m     color\u001b[38;5;241m=\u001b[39m\u001b[38;5;124m\"\u001b[39m\u001b[38;5;124mavg_roberta_compound\u001b[39m\u001b[38;5;124m\"\u001b[39m,      \u001b[38;5;66;03m# Color based on sentiment score\u001b[39;00m\n\u001b[0;32m     12\u001b[0m     color_continuous_scale\u001b[38;5;241m=\u001b[39mpx\u001b[38;5;241m.\u001b[39mcolors\u001b[38;5;241m.\u001b[39mcyclical\u001b[38;5;241m.\u001b[39mIceFire[::\u001b[38;5;241m-\u001b[39m\u001b[38;5;241m1\u001b[39m],  \u001b[38;5;66;03m# Use Twilight scale (blue to red)\u001b[39;00m\n\u001b[0;32m     13\u001b[0m     size_max\u001b[38;5;241m=\u001b[39m\u001b[38;5;241m30\u001b[39m,                  \u001b[38;5;66;03m# Maximum size of the bubbles\u001b[39;00m\n\u001b[0;32m     14\u001b[0m     center\u001b[38;5;241m=\u001b[39m{\u001b[38;5;124m\"\u001b[39m\u001b[38;5;124mlat\u001b[39m\u001b[38;5;124m\"\u001b[39m: \u001b[38;5;241m48\u001b[39m, \u001b[38;5;124m\"\u001b[39m\u001b[38;5;124mlon\u001b[39m\u001b[38;5;124m\"\u001b[39m: \u001b[38;5;241m2\u001b[39m},\n\u001b[0;32m     15\u001b[0m     zoom\u001b[38;5;241m=\u001b[39m\u001b[38;5;241m6\u001b[39m                       \u001b[38;5;66;03m# Adjust zoom level for better visibility\u001b[39;00m\n\u001b[0;32m     16\u001b[0m )\n\u001b[0;32m     18\u001b[0m \u001b[38;5;66;03m# Update the layout to use the default map style (which doesn't need a token)\u001b[39;00m\n\u001b[0;32m     19\u001b[0m fig\u001b[38;5;241m.\u001b[39mupdate_layout(\n\u001b[0;32m     20\u001b[0m     mapbox_style\u001b[38;5;241m=\u001b[39m\u001b[38;5;124m\"\u001b[39m\u001b[38;5;124mopen-street-map\u001b[39m\u001b[38;5;124m\"\u001b[39m,  \u001b[38;5;66;03m# No token needed for this style\u001b[39;00m\n\u001b[0;32m     21\u001b[0m     margin\u001b[38;5;241m=\u001b[39m{\u001b[38;5;124m\"\u001b[39m\u001b[38;5;124mr\u001b[39m\u001b[38;5;124m\"\u001b[39m:\u001b[38;5;241m0\u001b[39m,\u001b[38;5;124m\"\u001b[39m\u001b[38;5;124mt\u001b[39m\u001b[38;5;124m\"\u001b[39m:\u001b[38;5;241m0\u001b[39m,\u001b[38;5;124m\"\u001b[39m\u001b[38;5;124ml\u001b[39m\u001b[38;5;124m\"\u001b[39m:\u001b[38;5;241m0\u001b[39m,\u001b[38;5;124m\"\u001b[39m\u001b[38;5;124mb\u001b[39m\u001b[38;5;124m\"\u001b[39m:\u001b[38;5;241m0\u001b[39m}  \u001b[38;5;66;03m# Remove margins for a cleaner view\u001b[39;00m\n\u001b[0;32m     22\u001b[0m )\n",
      "File \u001b[1;32m~\\anaconda3\\Lib\\site-packages\\plotly\\express\\_chart_types.py:1247\u001b[0m, in \u001b[0;36mscatter_mapbox\u001b[1;34m(data_frame, lat, lon, color, text, hover_name, hover_data, custom_data, size, animation_frame, animation_group, category_orders, labels, color_discrete_sequence, color_discrete_map, color_continuous_scale, range_color, color_continuous_midpoint, opacity, size_max, zoom, center, mapbox_style, title, template, width, height)\u001b[0m\n\u001b[0;32m   1214\u001b[0m \u001b[38;5;28;01mdef\u001b[39;00m \u001b[38;5;21mscatter_mapbox\u001b[39m(\n\u001b[0;32m   1215\u001b[0m     data_frame\u001b[38;5;241m=\u001b[39m\u001b[38;5;28;01mNone\u001b[39;00m,\n\u001b[0;32m   1216\u001b[0m     lat\u001b[38;5;241m=\u001b[39m\u001b[38;5;28;01mNone\u001b[39;00m,\n\u001b[1;32m   (...)\u001b[0m\n\u001b[0;32m   1241\u001b[0m     height\u001b[38;5;241m=\u001b[39m\u001b[38;5;28;01mNone\u001b[39;00m,\n\u001b[0;32m   1242\u001b[0m ) \u001b[38;5;241m-\u001b[39m\u001b[38;5;241m>\u001b[39m go\u001b[38;5;241m.\u001b[39mFigure:\n\u001b[0;32m   1243\u001b[0m \u001b[38;5;250m    \u001b[39m\u001b[38;5;124;03m\"\"\"\u001b[39;00m\n\u001b[0;32m   1244\u001b[0m \u001b[38;5;124;03m    In a Mapbox scatter plot, each row of `data_frame` is represented by a\u001b[39;00m\n\u001b[0;32m   1245\u001b[0m \u001b[38;5;124;03m    symbol mark on a Mapbox map.\u001b[39;00m\n\u001b[0;32m   1246\u001b[0m \u001b[38;5;124;03m    \"\"\"\u001b[39;00m\n\u001b[1;32m-> 1247\u001b[0m     \u001b[38;5;28;01mreturn\u001b[39;00m make_figure(args\u001b[38;5;241m=\u001b[39m\u001b[38;5;28mlocals\u001b[39m(), constructor\u001b[38;5;241m=\u001b[39mgo\u001b[38;5;241m.\u001b[39mScattermapbox)\n",
      "File \u001b[1;32m~\\anaconda3\\Lib\\site-packages\\plotly\\express\\_core.py:2090\u001b[0m, in \u001b[0;36mmake_figure\u001b[1;34m(args, constructor, trace_patch, layout_patch)\u001b[0m\n\u001b[0;32m   2087\u001b[0m layout_patch \u001b[38;5;241m=\u001b[39m layout_patch \u001b[38;5;129;01mor\u001b[39;00m {}\n\u001b[0;32m   2088\u001b[0m apply_default_cascade(args)\n\u001b[1;32m-> 2090\u001b[0m args \u001b[38;5;241m=\u001b[39m build_dataframe(args, constructor)\n\u001b[0;32m   2091\u001b[0m \u001b[38;5;28;01mif\u001b[39;00m constructor \u001b[38;5;129;01min\u001b[39;00m [go\u001b[38;5;241m.\u001b[39mTreemap, go\u001b[38;5;241m.\u001b[39mSunburst, go\u001b[38;5;241m.\u001b[39mIcicle] \u001b[38;5;129;01mand\u001b[39;00m args[\u001b[38;5;124m\"\u001b[39m\u001b[38;5;124mpath\u001b[39m\u001b[38;5;124m\"\u001b[39m] \u001b[38;5;129;01mis\u001b[39;00m \u001b[38;5;129;01mnot\u001b[39;00m \u001b[38;5;28;01mNone\u001b[39;00m:\n\u001b[0;32m   2092\u001b[0m     args \u001b[38;5;241m=\u001b[39m process_dataframe_hierarchy(args)\n",
      "File \u001b[1;32m~\\anaconda3\\Lib\\site-packages\\plotly\\express\\_core.py:1492\u001b[0m, in \u001b[0;36mbuild_dataframe\u001b[1;34m(args, constructor)\u001b[0m\n\u001b[0;32m   1489\u001b[0m     args[\u001b[38;5;124m\"\u001b[39m\u001b[38;5;124mcolor\u001b[39m\u001b[38;5;124m\"\u001b[39m] \u001b[38;5;241m=\u001b[39m \u001b[38;5;28;01mNone\u001b[39;00m\n\u001b[0;32m   1490\u001b[0m \u001b[38;5;66;03m# now that things have been prepped, we do the systematic rewriting of `args`\u001b[39;00m\n\u001b[1;32m-> 1492\u001b[0m df_output, wide_id_vars \u001b[38;5;241m=\u001b[39m process_args_into_dataframe(\n\u001b[0;32m   1493\u001b[0m     args, wide_mode, var_name, value_name\n\u001b[0;32m   1494\u001b[0m )\n\u001b[0;32m   1496\u001b[0m \u001b[38;5;66;03m# now that `df_output` exists and `args` contains only references, we complete\u001b[39;00m\n\u001b[0;32m   1497\u001b[0m \u001b[38;5;66;03m# the special-case and wide-mode handling by further rewriting args and/or mutating\u001b[39;00m\n\u001b[0;32m   1498\u001b[0m \u001b[38;5;66;03m# df_output\u001b[39;00m\n\u001b[0;32m   1500\u001b[0m count_name \u001b[38;5;241m=\u001b[39m _escape_col_name(df_output, \u001b[38;5;124m\"\u001b[39m\u001b[38;5;124mcount\u001b[39m\u001b[38;5;124m\"\u001b[39m, [var_name, value_name])\n",
      "File \u001b[1;32m~\\anaconda3\\Lib\\site-packages\\plotly\\express\\_core.py:1213\u001b[0m, in \u001b[0;36mprocess_args_into_dataframe\u001b[1;34m(args, wide_mode, var_name, value_name)\u001b[0m\n\u001b[0;32m   1211\u001b[0m         \u001b[38;5;28;01mif\u001b[39;00m argument \u001b[38;5;241m==\u001b[39m \u001b[38;5;124m\"\u001b[39m\u001b[38;5;124mindex\u001b[39m\u001b[38;5;124m\"\u001b[39m:\n\u001b[0;32m   1212\u001b[0m             err_msg \u001b[38;5;241m+\u001b[39m\u001b[38;5;241m=\u001b[39m \u001b[38;5;124m\"\u001b[39m\u001b[38;5;130;01m\\n\u001b[39;00m\u001b[38;5;124m To use the index, pass it in directly as `df.index`.\u001b[39m\u001b[38;5;124m\"\u001b[39m\n\u001b[1;32m-> 1213\u001b[0m         \u001b[38;5;28;01mraise\u001b[39;00m \u001b[38;5;167;01mValueError\u001b[39;00m(err_msg)\n\u001b[0;32m   1214\u001b[0m \u001b[38;5;28;01melif\u001b[39;00m length \u001b[38;5;129;01mand\u001b[39;00m \u001b[38;5;28mlen\u001b[39m(df_input[argument]) \u001b[38;5;241m!=\u001b[39m length:\n\u001b[0;32m   1215\u001b[0m     \u001b[38;5;28;01mraise\u001b[39;00m \u001b[38;5;167;01mValueError\u001b[39;00m(\n\u001b[0;32m   1216\u001b[0m         \u001b[38;5;124m\"\u001b[39m\u001b[38;5;124mAll arguments should have the same length. \u001b[39m\u001b[38;5;124m\"\u001b[39m\n\u001b[0;32m   1217\u001b[0m         \u001b[38;5;124m\"\u001b[39m\u001b[38;5;124mThe length of column argument `df[\u001b[39m\u001b[38;5;132;01m%s\u001b[39;00m\u001b[38;5;124m]` is \u001b[39m\u001b[38;5;132;01m%d\u001b[39;00m\u001b[38;5;124m, whereas the \u001b[39m\u001b[38;5;124m\"\u001b[39m\n\u001b[1;32m   (...)\u001b[0m\n\u001b[0;32m   1224\u001b[0m         )\n\u001b[0;32m   1225\u001b[0m     )\n",
      "\u001b[1;31mValueError\u001b[0m: Value of 'size' is not the name of a column in 'data_frame'. Expected one of ['text_id', 'title', 'subjects', 'last_name', 'first_name', 'birth', 'death'] but received: location_count_bucket"
     ]
    }
   ],
   "source": [
    "#YOUR MAP CODE HERE\n",
    "import plotly.express as px\n",
    "\n",
    "df_odonnell = df_odonnell.drop(columns=['language', 'issued', 'type', 'locc', 'bookshelves', 'second_author']).copy()\n",
    "\n",
    "fig = px.scatter_mapbox(\n",
    "    df_odonnell,  #put your dataframe here\n",
    "    lat=\"latitude\",               # Latitude column\n",
    "    lon=\"longitude\",              # Longitude column\n",
    "    size=\"location_count_bucket\",        # Bubble size based on location count\n",
    "    color=\"avg_roberta_compound\",      # Color based on sentiment score\n",
    "    color_continuous_scale=px.colors.cyclical.IceFire[::-1],  # Use Twilight scale (blue to red)\n",
    "    size_max=30,                  # Maximum size of the bubbles\n",
    "    center={\"lat\": 48, \"lon\": 2},\n",
    "    zoom=6                       # Adjust zoom level for better visibility\n",
    ")\n",
    "\n",
    "# Update the layout to use the default map style (which doesn't need a token)\n",
    "fig.update_layout(\n",
    "    mapbox_style=\"open-street-map\",  # No token needed for this style\n",
    "    margin={\"r\":0,\"t\":0,\"l\":0,\"b\":0}  # Remove margins for a cleaner view\n",
    ")\n",
    "\n",
    "\n",
    "\n",
    "fig.show()"
   ]
  },
  {
   "cell_type": "markdown",
   "id": "7f640001-9f90-4fe0-b8b9-c0657a64df40",
   "metadata": {
    "editable": true,
    "slideshow": {
     "slide_type": ""
    },
    "tags": []
   },
   "source": [
    "### 7. Reflection (Individual)\n",
    "\n",
    "Describe how the process of geoparsing and emotion tagging went. \n",
    "- What expectations did you have when you went into the processing and what was the actual result?\n",
    "- Do you feel that the process was succesful? \n",
    "- What were some stumbling blocks you faced when collecting and processing your data?\n",
    "- What is some \"garbage\" data that is still in your data set?\n",
    "- If you had more time, how would you refine the results?\n",
    "\n",
    "\n",
    "  (1-2 paragraphs)"
   ]
  },
  {
   "cell_type": "code",
   "execution_count": null,
   "id": "0d0b83f6-14f3-4e3f-b27f-cbf7531a87b0",
   "metadata": {
    "editable": true,
    "slideshow": {
     "slide_type": ""
    },
    "tags": []
   },
   "outputs": [],
   "source": [
    "When I first read over the project, I was a bit terrified as I thought we would have to code the whole project. Thankfully,\n",
    "my fears were put to rest when I opened the template. I did not think the results were going be very good considering that I \n",
    "did not remember a lot of the code. However, with the help of my professor and my teammates, I understood much better and the results \n",
    "turned out great. I feel like the process was successful. Some of the problems I had was with how to deal with section 4. That part was\n",
    "my section and I had trouble learning how to code to remove false positives. After talking to my professor, he helped me out greatly by\n",
    "showing me a new line of code which would take more time but it was very effective. I believe the only garbage data is some remaining false \n",
    "positives. If I had more time, I would make the data look more presentable and more organized then it is now because I changed some of the \n",
    "cells."
   ]
  }
 ],
 "metadata": {
  "kernelspec": {
   "display_name": "Python 3 (ipykernel)",
   "language": "python",
   "name": "python3"
  },
  "language_info": {
   "codemirror_mode": {
    "name": "ipython",
    "version": 3
   },
   "file_extension": ".py",
   "mimetype": "text/x-python",
   "name": "python",
   "nbconvert_exporter": "python",
   "pygments_lexer": "ipython3",
   "version": "3.12.3"
  }
 },
 "nbformat": 4,
 "nbformat_minor": 5
}
